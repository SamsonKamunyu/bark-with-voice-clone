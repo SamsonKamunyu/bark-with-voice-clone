{
 "cells": [
  {
   "cell_type": "code",
   "execution_count": null,
   "id": "a1c8c3f3-19cb-4dc8-8e87-e8d9b53b2d7f",
   "metadata": {},
   "outputs": [],
   "source": [
    "!pip install --upgrade pip"
   ]
  },
  {
   "cell_type": "code",
   "execution_count": null,
   "id": "1cfce692-5dd6-4e3d-a05b-bd4a6ccacf65",
   "metadata": {},
   "outputs": [],
   "source": [
    "!pip install fairseq"
   ]
  },
  {
   "cell_type": "code",
   "execution_count": null,
   "id": "dc41c2c3-7040-41c4-ab52-bfdf17684849",
   "metadata": {},
   "outputs": [],
   "source": [
    "from bark.generation import load_codec_model\n",
    "from encodec.utils import convert_audio\n",
    "# from transformers import HubertModel, HubertTokenizer, HubertForSequenceClassification, HubertForCTC\n",
    "from hubert.hubert_manager import HuBERTManager\n",
    "from hubert.pre_kmeans_hubert import CustomHubert\n",
    "from hubert.customtokenizer import CustomTokenizer\n",
    "import torchaudio\n",
    "import torch\n",
    "import numpy as np\n",
    "\n",
    "# Load and process your audio\n",
    "audio_filepath = r'C:\\Users\\25471\\Documents\\Python\\Samson_AI\\Talk-to-Samson-AI\\Raw Data\\Audio Files-Processed\\short_audiomass-output.mp3'\n",
    "voice_name = \"cloned_myvoice\"\n",
    "output_path = r'C:\\Users\\25471\\Documents\\Python\\Samson_AI\\Talk-to-Samson-AI\\Raw Data\\Audio Files-Processed' + voice_name + '.npz'"
   ]
  },
  {
   "cell_type": "code",
   "execution_count": null,
   "id": "c787480d-ad16-4d17-9ab0-90c6e02daf2b",
   "metadata": {},
   "outputs": [],
   "source": [
    "from bark import generate_audio\n",
    "\n",
    "text_prompt = \"Hello, this is my cloned voice speaking.\"\n",
    "audio_array = generate_audio(text_prompt, history_prompt=\"en_myvoice_1\")"
   ]
  },
  {
   "cell_type": "code",
   "execution_count": null,
   "id": "ebc9512c-3404-4c6b-b1ae-bbc3077bf31b",
   "metadata": {},
   "outputs": [],
   "source": []
  }
 ],
 "metadata": {
  "kernelspec": {
   "display_name": "Python [conda env:base] *",
   "language": "python",
   "name": "conda-base-py"
  },
  "language_info": {
   "codemirror_mode": {
    "name": "ipython",
    "version": 3
   },
   "file_extension": ".py",
   "mimetype": "text/x-python",
   "name": "python",
   "nbconvert_exporter": "python",
   "pygments_lexer": "ipython3",
   "version": "3.12.7"
  }
 },
 "nbformat": 4,
 "nbformat_minor": 5
}
