{
 "cells": [
  {
   "cell_type": "code",
   "execution_count": null,
   "id": "d2f26993-d8bd-4159-8c6f-686027e1e6e8",
   "metadata": {},
   "outputs": [],
   "source": [
    "!pip install -U encodec"
   ]
  },
  {
   "cell_type": "code",
   "execution_count": null,
   "id": "dc41c2c3-7040-41c4-ab52-bfdf17684849",
   "metadata": {},
   "outputs": [],
   "source": [
    "from bark.generation import load_codec_model\n",
    "# from encodec.utils import convert_audio\n",
    "from hubert.hubert_manager import HuBERTManager\n",
    "from hubert.pre_kmeans_hubert import CustomHubert\n",
    "from hubert.customtokenizer import CustomTokenizer\n",
    "import torchaudio\n",
    "import torch\n",
    "import numpy as np\n",
    "\n",
    "# Load and process your audio\n",
    "audio_filepath = 'custom/audio/my_voice.wav'\n",
    "voice_name = \"en_myvoice_1\"\n",
    "output_path = 'bark/assets/prompts/' + voice_name + '.npz'"
   ]
  },
  {
   "cell_type": "code",
   "execution_count": null,
   "id": "c787480d-ad16-4d17-9ab0-90c6e02daf2b",
   "metadata": {},
   "outputs": [],
   "source": [
    "from bark import generate_audio\n",
    "\n",
    "text_prompt = \"Hello, this is my cloned voice speaking.\"\n",
    "audio_array = generate_audio(text_prompt, history_prompt=\"en_myvoice_1\")"
   ]
  },
  {
   "cell_type": "code",
   "execution_count": null,
   "id": "ebc9512c-3404-4c6b-b1ae-bbc3077bf31b",
   "metadata": {},
   "outputs": [],
   "source": []
  }
 ],
 "metadata": {
  "kernelspec": {
   "display_name": "Python 3 (ipykernel)",
   "language": "python",
   "name": "python3"
  },
  "language_info": {
   "codemirror_mode": {
    "name": "ipython",
    "version": 3
   },
   "file_extension": ".py",
   "mimetype": "text/x-python",
   "name": "python",
   "nbconvert_exporter": "python",
   "pygments_lexer": "ipython3",
   "version": "3.12.7"
  }
 },
 "nbformat": 4,
 "nbformat_minor": 5
}
